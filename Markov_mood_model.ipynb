{
 "cells": [
  {
   "cell_type": "code",
   "execution_count": 2,
   "metadata": {},
   "outputs": [
    {
     "data": {
      "text/plain": [
       "{'Normal': 88.9012,\n",
       " 'MDD': 10.076600000000001,\n",
       " 'Mixed Bipolar': 0.4189666666666667,\n",
       " 'Pure Mania': 0.6032333333333333}"
      ]
     },
     "execution_count": 2,
     "metadata": {},
     "output_type": "execute_result"
    }
   ],
   "source": [
    "import numpy as np\n",
    "\n",
    "def generate_markov_chain_sequence(initial_state, transition_matrix, steps):\n",
    "    current_state = initial_state\n",
    "    sequence = [current_state]\n",
    "\n",
    "    for _ in range(steps - 1):\n",
    "        current_state = np.random.choice(['normal', 'depressed', 'manic'], p=list(transition_matrix[current_state].values()))\n",
    "        sequence.append(current_state)\n",
    "\n",
    "    return sequence\n",
    "\n",
    "def simulate_population(population_size, steps, transition_matrix):\n",
    "    population = []\n",
    "    for _ in range(population_size):\n",
    "        initial_state = 'normal' \n",
    "        sequence = generate_markov_chain_sequence(initial_state, transition_matrix, steps)\n",
    "        population.append(sequence)\n",
    "\n",
    "    return population\n",
    "\n",
    "def categorize_mental_health_state(markov_chain_output):\n",
    "    consecutive_depression = 0\n",
    "    has_mania = False\n",
    "    has_two_consecutive_depression = False\n",
    "\n",
    "    for state in markov_chain_output:\n",
    "        if state == 'depressed':\n",
    "            consecutive_depression += 1\n",
    "            if consecutive_depression >= 2:\n",
    "                has_two_consecutive_depression = True\n",
    "        elif state == 'manic':\n",
    "            has_mania = True\n",
    "            consecutive_depression = 0  \n",
    "        else:\n",
    "            consecutive_depression = 0  \n",
    "\n",
    "    if has_two_consecutive_depression and has_mania:\n",
    "        return 'Mixed Bipolar'\n",
    "    elif has_two_consecutive_depression:\n",
    "        return 'MDD'\n",
    "    elif has_mania:\n",
    "        return 'Pure Mania'\n",
    "    else:\n",
    "        return 'Normal'\n",
    "\n",
    "def analyze_population_distribution(population):\n",
    "    distribution = {'Normal': 0, 'MDD': 0, 'Mixed Bipolar': 0, 'Pure Mania': 0}\n",
    "\n",
    "    for sequence in population:\n",
    "        category = categorize_mental_health_state(sequence)\n",
    "        distribution[category] += 1\n",
    "\n",
    "    return distribution\n",
    "\n",
    "transition_matrix = {\n",
    "    'normal': {'normal': 0.99610, 'depressed': 0.00382, 'manic': 0.00008},\n",
    "    'depressed': {'normal': 0.4055, 'depressed': 0.5802, 'manic': 0.0143},\n",
    "    'manic': {'normal': 0.999926, 'depressed': 0.000034, 'manic': 0.00004}\n",
    "}\n",
    "\n",
    "\n",
    "population_size = 100000\n",
    "sequence_length = 52  # 52 weeks\n",
    "num_simulations = 30\n",
    "\n",
    "sum_percentages = {'Normal': 0, 'MDD': 0, 'Mixed Bipolar': 0, 'Pure Mania': 0}\n",
    "\n",
    "for _ in range(num_simulations):\n",
    "    simulated_population = simulate_population(population_size, sequence_length, transition_matrix)\n",
    "    population_distribution = analyze_population_distribution(simulated_population)\n",
    "    population_percentages = {k: (v / population_size) * 100 for k, v in population_distribution.items()}\n",
    "    for category in sum_percentages:\n",
    "        sum_percentages[category] += population_percentages[category]\n",
    "average_percentages = {k: v / num_simulations for k, v in sum_percentages.items()}\n",
    "\n",
    "average_percentages"
   ]
  }
 ],
 "metadata": {
  "kernelspec": {
   "display_name": "Python 3",
   "language": "python",
   "name": "python3"
  },
  "language_info": {
   "codemirror_mode": {
    "name": "ipython",
    "version": 3
   },
   "file_extension": ".py",
   "mimetype": "text/x-python",
   "name": "python",
   "nbconvert_exporter": "python",
   "pygments_lexer": "ipython3",
   "version": "3.10.11"
  }
 },
 "nbformat": 4,
 "nbformat_minor": 2
}
